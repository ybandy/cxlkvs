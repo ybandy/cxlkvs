{
 "cells": [
  {
   "cell_type": "code",
   "execution_count": null,
   "metadata": {},
   "outputs": [],
   "source": [
    "import numpy as np\n",
    "import matplotlib.pyplot as plt\n",
    "import json"
   ]
  },
  {
   "cell_type": "code",
   "execution_count": null,
   "metadata": {},
   "outputs": [],
   "source": [
    "NUM_CORES_LIST = [1, 2, 4, 8, 16]\n",
    "CXL_LATENCY = 5000\n",
    "\n",
    "with open('aerospike.json', 'r') as f:\n",
    "    aerospike = json.load(f)\n",
    "\n",
    "with open('cachelib.json', 'r') as f:\n",
    "    cachelib = json.load(f)"
   ]
  },
  {
   "cell_type": "code",
   "execution_count": null,
   "metadata": {},
   "outputs": [],
   "source": [
    "figsize = plt.rcParams['figure.figsize']\n",
    "plt.figure(figsize=(figsize[0]//2, figsize[1]*2//3))\n",
    "\n",
    "xs = NUM_CORES_LIST\n",
    "\n",
    "ys = np.array(aerospike[str(CXL_LATENCY)]) * 1e-6\n",
    "plt.plot(xs, ys, 'o-', label='Aerospike (500M items, read-only)')\n",
    "xytexts = [(-20, 5), (-15, 10), (-15, 10), (-20, 8), (-20, 8)]\n",
    "for x, y, z in zip(xs, ys, xytexts):\n",
    "    plt.annotate('x%.1f' % (y / ys[0]), (x, y), xytext=z, textcoords='offset points', color='C0')\n",
    "\n",
    "ys = np.array(cachelib[str(CXL_LATENCY)]) * 1e-6\n",
    "plt.plot(xs, ys, 's-', label='CacheLib (100M items)')\n",
    "xytexts = [(-5, -12), (7, -5), (8, -5), (8, -6), (-12, -17)]\n",
    "for x, y, z in zip(xs, ys, xytexts):\n",
    "    plt.annotate('x%.1f' % (y / ys[0]), (x, y), xytext=z, textcoords='offset points', color='C1')\n",
    "\n",
    "plt.xticks((1, 2, 4, 8, 16))\n",
    "plt.xlabel('Number of CPU cores')\n",
    "plt.ylabel('Throughput [Mops/sec]')\n",
    "plt.xlim((-1.5, 18))\n",
    "plt.ylim((-0.1, 2.1))\n",
    "plt.legend(bbox_to_anchor=(-0.3, 1.02), loc='lower left')\n",
    "plt.text(0.5, 1.7, 'CXL %.1f usec' % (CXL_LATENCY / 1000), color='black',\n",
    "         bbox=dict(facecolor='none', edgecolor='gray'))\n",
    "plt.savefig('multicore.pdf', bbox_inches='tight')\n",
    "plt.show()"
   ]
  }
 ],
 "metadata": {
  "kernelspec": {
   "display_name": "plot",
   "language": "python",
   "name": "python3"
  },
  "language_info": {
   "codemirror_mode": {
    "name": "ipython",
    "version": 3
   },
   "file_extension": ".py",
   "mimetype": "text/x-python",
   "name": "python",
   "nbconvert_exporter": "python",
   "pygments_lexer": "ipython3",
   "version": "3.10.12"
  }
 },
 "nbformat": 4,
 "nbformat_minor": 2
}
