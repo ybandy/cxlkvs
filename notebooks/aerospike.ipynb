{
 "cells": [
  {
   "cell_type": "code",
   "execution_count": null,
   "metadata": {},
   "outputs": [],
   "source": [
    "import numpy as np\n",
    "import matplotlib.pyplot as plt\n",
    "import json\n",
    "from pathlib import Path\n",
    "from collections import defaultdict\n",
    "\n",
    "from utils.aerospike_analyzer import *\n",
    "from utils.plot import *"
   ]
  },
  {
   "cell_type": "code",
   "execution_count": null,
   "metadata": {},
   "outputs": [],
   "source": [
    "BASE_PATH = Path('..', 'aerospike')\n",
    "BATCH = 10\n",
    "NUM_CORES_LIST = [1, 2, 4, 8, 16]\n",
    "\n",
    "DRAM_LATENCY_LIST = [0]\n",
    "CXL_LATENCY_LIST = [500, 1000, 1500, 2000, 2500, 3000, 4000, 5000, 10000, 20000]\n",
    "MEM_LATENCY_LIST = DRAM_LATENCY_LIST + CXL_LATENCY_LIST"
   ]
  },
  {
   "cell_type": "code",
   "execution_count": null,
   "metadata": {},
   "outputs": [],
   "source": [
    "max_throughput_dict = {}\n",
    "for num_cores in NUM_CORES_LIST:\n",
    "    dram_log_dir = BASE_PATH.joinpath('run-act-ro-dram-%dcore-log' % num_cores)\n",
    "    cxl_log_dir = BASE_PATH.joinpath('run-act-ro-cxl-%dcore-log' % num_cores)\n",
    "    data = parse_logs(dram_log_dir.glob('act-*.log'), DRAM_LATENCY_LIST)\n",
    "    d = parse_logs(cxl_log_dir.glob('act-*.log'), CXL_LATENCY_LIST)\n",
    "    data.update(d)\n",
    "    max_throughput_list = []\n",
    "    for mem_latency in MEM_LATENCY_LIST:\n",
    "        max_t, _, _, _, _, _ = analyze_given_mem_latency_and_batch(data, mem_latency, BATCH)\n",
    "        max_throughput_list.append(max_t)\n",
    "    max_throughput_dict[num_cores] = max_throughput_list"
   ]
  },
  {
   "cell_type": "code",
   "execution_count": null,
   "metadata": {},
   "outputs": [],
   "source": [
    "SWITCH_TIME = 50\n",
    "NUM_PREFETCHES = 12\n",
    "NUM_CHASES = 8\n",
    "MEMORY_TIME = 139.5 - 62\n",
    "IO_TIME_PRE = 2009.7 - 62\n",
    "IO_TIME_POST = 1292.1 - 62\n",
    "TITLE = 'Aerospike (500M items, single core, read-only)'\n",
    "NAME = 'aerospike500m_1core_rdonly'\n",
    "NUM_CORES = 1\n",
    "\n",
    "latencies = []\n",
    "throughputs = []\n",
    "for lat, t in zip(MEM_LATENCY_LIST, max_throughput_dict[NUM_CORES]):\n",
    "    if(lat > 1000 and lat % 1000 == 500):\n",
    "        continue\n",
    "    elif(lat > 15000):\n",
    "        continue\n",
    "    else:\n",
    "        latencies.append(lat)\n",
    "        throughputs.append(t)\n",
    "\n",
    "_ = plot_with_models(latencies, throughputs,\n",
    "                     NUM_CHASES, MEMORY_TIME, IO_TIME_PRE, IO_TIME_POST,\n",
    "                     SWITCH_TIME, NUM_PREFETCHES, 'Aerospike/CacheLib', TITLE, NAME)"
   ]
  },
  {
   "cell_type": "code",
   "execution_count": null,
   "metadata": {},
   "outputs": [],
   "source": [
    "throughput_dict = defaultdict(list)\n",
    "for i, lat in enumerate(MEM_LATENCY_LIST):\n",
    "    if(lat > 1000 and lat % 1000 == 500):\n",
    "        continue\n",
    "    elif(lat > 15000):\n",
    "        continue\n",
    "    else:\n",
    "        for num_cores in NUM_CORES_LIST:\n",
    "            throughput_dict[lat].append(max_throughput_dict[num_cores][i])\n",
    "\n",
    "with open('aerospike.json', 'w') as f:\n",
    "    json.dump(throughput_dict, f, indent=4)\n",
    "\n",
    "plot_core_scaling(NUM_CORES_LIST, throughput_dict, 'Aerospike (500M items, read-only)')"
   ]
  },
  {
   "cell_type": "code",
   "execution_count": null,
   "metadata": {},
   "outputs": [],
   "source": [
    "NUM_CORES = 16\n",
    "plot_throughputs(MEM_LATENCY_LIST, max_throughput_dict[NUM_CORES], 2.1, 'C0',\n",
    "                 'Aerospike (500M items, read-only)', 'aerospike500m_16core_rdonly')"
   ]
  },
  {
   "cell_type": "code",
   "execution_count": null,
   "metadata": {},
   "outputs": [],
   "source": [
    "DRAM_LOG_DIR = BASE_PATH.joinpath('run-act-rw-dram-8core-log')\n",
    "CXL_LOG_DIR  = BASE_PATH.joinpath('run-act-rw-cxl-8core-log')\n",
    "\n",
    "data = parse_logs(DRAM_LOG_DIR.glob('act-*.log'), DRAM_LATENCY_LIST)\n",
    "d    = parse_logs(CXL_LOG_DIR.glob('act-*.log'), CXL_LATENCY_LIST)\n",
    "data.update(d)"
   ]
  },
  {
   "cell_type": "code",
   "execution_count": null,
   "metadata": {},
   "outputs": [],
   "source": [
    "def plot_all_throughputs(mem_latency, d):\n",
    "    client_threads_list = sorted(list(d.keys()))\n",
    "    server_threads_list = sorted(list(d[client_threads_list[0]].keys()))\n",
    "    x = np.arange(len(server_threads_list))\n",
    "    plt.figure(figsize=(15,5))\n",
    "    n = len(client_threads_list)\n",
    "    width = 0.8 / n\n",
    "    for i, c_th in enumerate(client_threads_list):\n",
    "        y = []\n",
    "        for s_th in server_threads_list:\n",
    "            if(s_th in d[c_th]):\n",
    "                y.append(d[c_th][s_th])\n",
    "            else:\n",
    "                y.append(0)\n",
    "        plt.bar(x + (i - n/2 + 0.5) * width, y, width=width*0.8, label='%d clients' % c_th)\n",
    "    plt.xticks(x, server_threads_list)\n",
    "    plt.xlabel('Number of server threads')\n",
    "    plt.ylabel('Throughput [ops/sec]')\n",
    "    if(mem_latency == 0):\n",
    "        plt.title('DRAM 0.1 usec')\n",
    "    else:\n",
    "        plt.title('CXL %.1f usec' % (mem_latency / 1000))\n",
    "    plt.legend(bbox_to_anchor=(1, 0), loc='lower left')\n",
    "    plt.show()"
   ]
  },
  {
   "cell_type": "code",
   "execution_count": null,
   "metadata": {},
   "outputs": [],
   "source": [
    "BATCH = 10\n",
    "SERVER_THREADS = 512\n",
    "CLIENT_THREADS = 512\n",
    "\n",
    "throughput_list = []\n",
    "rd_latency_list = []\n",
    "wr_latency_list = []\n",
    "for mem_latency in MEM_LATENCY_LIST:\n",
    "    _, _, _, t, r, w = analyze_given_mem_latency_and_batch(data, mem_latency, BATCH)\n",
    "    plot_all_throughputs(mem_latency, t)\n",
    "    throughput_list.append(t[CLIENT_THREADS][SERVER_THREADS])\n",
    "    rd_latency_list.append(r[CLIENT_THREADS][SERVER_THREADS])\n",
    "    wr_latency_list.append(w[CLIENT_THREADS][SERVER_THREADS])\n",
    "\n",
    "plot_throughputs(MEM_LATENCY_LIST, throughput_list, None, '#9400d3',\n",
    "                 'Aerospike Operation Throughput (500M items, read-write mix)', 'aerospike500m_8core')\n",
    "\n",
    "plot_latencies(MEM_LATENCY_LIST, rd_latency_list, [50, 90, 99], BATCH,\n",
    "               'Aerospike Operation Latency (500M items, read-write mix)', 'aerospike500m_8core_latency')"
   ]
  }
 ],
 "metadata": {
  "kernelspec": {
   "display_name": "plot",
   "language": "python",
   "name": "python3"
  },
  "language_info": {
   "codemirror_mode": {
    "name": "ipython",
    "version": 3
   },
   "file_extension": ".py",
   "mimetype": "text/x-python",
   "name": "python",
   "nbconvert_exporter": "python",
   "pygments_lexer": "ipython3",
   "version": "3.10.12"
  }
 },
 "nbformat": 4,
 "nbformat_minor": 2
}
