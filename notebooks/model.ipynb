{
 "cells": [
  {
   "cell_type": "code",
   "execution_count": null,
   "metadata": {},
   "outputs": [],
   "source": [
    "import numpy as np\n",
    "import matplotlib.pyplot as plt\n",
    "\n",
    "from utils.model import OpTimeModelProbabilistic"
   ]
  },
  {
   "cell_type": "code",
   "execution_count": null,
   "metadata": {},
   "outputs": [],
   "source": [
    "SWITCH_TIME = 50\n",
    "NUM_PREFETCHES = 12\n",
    "NUM_MEMORY_ACCESSES = 10\n",
    "MEMORY_TIME = 100\n",
    "IO_TIME_PRE = 2000\n",
    "IO_TIME_POST = 2000\n",
    "\n",
    "m = OpTimeModelProbabilistic(SWITCH_TIME, NUM_PREFETCHES)\n",
    "\n",
    "WIDTH  = 301    # resolution for horizontal axis (latency)\n",
    "HEIGHT = WIDTH  # resolution for vertical axis (one of other parameters)\n",
    "STEP = (WIDTH - 1) // 10\n",
    "VMIN = 40       # throughput degradation in [VMIN, 100]% will be visualized\n",
    "\n",
    "img = np.zeros((HEIGHT, WIDTH))"
   ]
  },
  {
   "cell_type": "code",
   "execution_count": null,
   "metadata": {},
   "outputs": [],
   "source": [
    "def set_values(start, end, resolution, tick_step, format, denominator):\n",
    "    values = []\n",
    "    ticks = []\n",
    "    for i in range(resolution):\n",
    "        val = start + (end - start) * (i / (resolution - 1))\n",
    "        values.append(val)\n",
    "        if(i % tick_step == 0):\n",
    "            ticks.append(format % (val / denominator))\n",
    "    return values, ticks"
   ]
  },
  {
   "cell_type": "code",
   "execution_count": null,
   "metadata": {},
   "outputs": [],
   "source": [
    "def print_percentage(val):\n",
    "    return '%d%%' % int(val + 0.5)\n",
    "\n",
    "def plot_heatmap(img, xticks, yticks, ylabel, name):\n",
    "    img *= 100 / img[:, 0, np.newaxis]\n",
    "    plt.figure()\n",
    "    plt.imshow(img, cmap='inferno', interpolation='bilinear', vmin=VMIN, vmax=100)\n",
    "    b = plt.colorbar(format='%d%%')\n",
    "    b.ax.tick_params(labelsize=12) \n",
    "    c = plt.contour(img, levels=[70, 80, 90, 95, 99, 99.99999],\n",
    "                    colors='black', alpha=0.9,\n",
    "                    linewidths=0.5, antialiased=True)\n",
    "    plt.clabel(c, inline=True, fontsize=12, fmt=print_percentage)\n",
    "    plt.xlabel('Memory latency $L_{\\mathrm{mem}}$ [usec]', fontsize=14, labelpad=10)\n",
    "    plt.xticks(np.arange(len(xticks)) * STEP, xticks, fontsize=12)\n",
    "    plt.ylabel(ylabel, fontsize=14, labelpad=10)\n",
    "    plt.yticks(np.arange(len(yticks)) * STEP, yticks, fontsize=12)\n",
    "    plt.gca().invert_yaxis()\n",
    "    plt.savefig(name + '.pdf', bbox_inches='tight')\n",
    "    plt.show()"
   ]
  },
  {
   "cell_type": "code",
   "execution_count": null,
   "metadata": {},
   "outputs": [],
   "source": [
    "MIN_LATENCY = 0\n",
    "MAX_LATENCY = 10000\n",
    "latency_list, xticks = set_values(MIN_LATENCY, MAX_LATENCY, WIDTH, STEP, '%d', 1000)"
   ]
  },
  {
   "cell_type": "code",
   "execution_count": null,
   "metadata": {},
   "outputs": [],
   "source": [
    "MIN_MEMORY_TIME = 0\n",
    "MAX_MEMORY_TIME = 1000\n",
    "\n",
    "memory_time_list, yticks = set_values(MIN_MEMORY_TIME, MAX_MEMORY_TIME, HEIGHT, STEP, '%.1f', 1000)\n",
    "for h, memory_time in enumerate(memory_time_list):\n",
    "    for w, latency in enumerate(latency_list):\n",
    "        t = m.reciprocal_throughput(NUM_MEMORY_ACCESSES, memory_time, IO_TIME_PRE, IO_TIME_POST, latency)\n",
    "        img[h, w] = 1/t\n",
    "\n",
    "plot_heatmap(img, xticks, yticks, r'Memory suboperation time $T_{\\mathrm{mem}}$ [usec]', 'heat_mem_time')"
   ]
  },
  {
   "cell_type": "code",
   "execution_count": null,
   "metadata": {},
   "outputs": [],
   "source": [
    "MIN_IO_TIME_PRE = 0\n",
    "MAX_IO_TIME_PRE = 10000\n",
    "\n",
    "io_time_pre_list, yticks = set_values(MIN_IO_TIME_PRE, MAX_IO_TIME_PRE, HEIGHT, STEP, '%.1f', 1000)\n",
    "for h, io_time_pre in enumerate(io_time_pre_list):\n",
    "    for w, latency in enumerate(latency_list):\n",
    "        t = m.reciprocal_throughput(NUM_MEMORY_ACCESSES, MEMORY_TIME, io_time_pre, IO_TIME_POST, latency)\n",
    "        img[h, w] = 1/t\n",
    "\n",
    "plot_heatmap(img, xticks, yticks, r'Pre-IO suboperation time $T_{\\mathrm{IO}}^{\\mathrm{pre}}$ [usec]', 'heat_io_time_pre')"
   ]
  },
  {
   "cell_type": "code",
   "execution_count": null,
   "metadata": {},
   "outputs": [],
   "source": [
    "MIN_IO_TIME_POST = 0\n",
    "MAX_IO_TIME_POST = 10000\n",
    "\n",
    "io_time_post_list, yticks = set_values(MIN_IO_TIME_POST, MAX_IO_TIME_POST, HEIGHT, STEP, '%.1f', 1000)\n",
    "for h, io_time_post in enumerate(io_time_post_list):\n",
    "    for w, latency in enumerate(latency_list):\n",
    "        t = m.reciprocal_throughput(NUM_MEMORY_ACCESSES, MEMORY_TIME, IO_TIME_PRE, io_time_post, latency)\n",
    "        img[h, w] = 1/t\n",
    "\n",
    "plot_heatmap(img, xticks, yticks, r'Post-IO suboperation time $T_{\\mathrm{IO}}^{\\mathrm{post}}$ [usec]', 'heat_io_time_post')"
   ]
  },
  {
   "cell_type": "code",
   "execution_count": null,
   "metadata": {},
   "outputs": [],
   "source": [
    "MIN_NUM_MEMORY_ACCESSES = 1\n",
    "MAX_NUM_MEMORY_ACCESSES = 20\n",
    "\n",
    "num_memory_accesses_list, yticks = set_values(MIN_NUM_MEMORY_ACCESSES, MAX_NUM_MEMORY_ACCESSES, HEIGHT, STEP, '%d', 1)\n",
    "for h, num_memory_accesses in enumerate(num_memory_accesses_list):\n",
    "    for w, latency in enumerate(latency_list):\n",
    "        t = m.reciprocal_throughput(num_memory_accesses, MEMORY_TIME, IO_TIME_PRE, IO_TIME_POST, latency)\n",
    "        img[h, w] = 1/t\n",
    "\n",
    "plot_heatmap(img, xticks, yticks, 'Number $M$ of memory accesses', 'heat_num_memory_accesses')"
   ]
  }
 ],
 "metadata": {
  "kernelspec": {
   "display_name": "plot",
   "language": "python",
   "name": "python3"
  },
  "language_info": {
   "codemirror_mode": {
    "name": "ipython",
    "version": 3
   },
   "file_extension": ".py",
   "mimetype": "text/x-python",
   "name": "python",
   "nbconvert_exporter": "python",
   "pygments_lexer": "ipython3",
   "version": "3.10.12"
  }
 },
 "nbformat": 4,
 "nbformat_minor": 2
}
